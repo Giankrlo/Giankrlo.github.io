{
  "nbformat": 4,
  "nbformat_minor": 0,
  "metadata": {
    "colab": {
      "name": "Diagnostico de un PC.ipynb",
      "provenance": [],
      "authorship_tag": "ABX9TyOfI6EaSytTef7VqifiVBeV",
      "include_colab_link": true
    },
    "kernelspec": {
      "name": "python3",
      "display_name": "Python 3"
    }
  },
  "cells": [
    {
      "cell_type": "markdown",
      "metadata": {
        "id": "view-in-github",
        "colab_type": "text"
      },
      "source": [
        "<a href=\"https://colab.research.google.com/github/Giankrlo/Giankrlo.github.io/blob/master/Diagnostico_de_un_PC.ipynb\" target=\"_parent\"><img src=\"https://colab.research.google.com/assets/colab-badge.svg\" alt=\"Open In Colab\"/></a>"
      ]
    },
    {
      "cell_type": "code",
      "metadata": {
        "id": "0S86TOkJTiXd",
        "colab_type": "code",
        "colab": {
          "base_uri": "https://localhost:8080/",
          "height": 34
        },
        "outputId": "eadb510d-126c-4c44-a3ed-0f84e8fdcedc"
      },
      "source": [
        "#@title Diagnóstico De Pitidos de la Bios { run: \"auto\", vertical-output: true }\n",
        "np = \"2\" #@param [\"1\", \"2\", \"3\", \"4\"]\n",
        "\n",
        "if np == \"1\":\n",
        "        print (\"fallo en el refresco de la memoria\")\n",
        "elif np == \"2\":\n",
        "          print (\" fallo de memoria. Error de paridad\")\n",
        "elif np == \"3\":\n",
        "      print(\"Fallo en la memoria base de 64K\")\n",
        "elif np == \"4\":\n",
        "      print(\"fallo en el timer del sistema.\")    \n",
        "else:\n",
        "      print (\"Error desconocido\")"
      ],
      "execution_count": 4,
      "outputs": [
        {
          "output_type": "stream",
          "text": [
            " fallo de memoria. Error de paridad\n"
          ],
          "name": "stdout"
        }
      ]
    }
  ]
}